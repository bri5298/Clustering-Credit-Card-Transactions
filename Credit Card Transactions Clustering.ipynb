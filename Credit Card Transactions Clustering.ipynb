{
 "cells": [
  {
   "cell_type": "code",
   "execution_count": null,
   "id": "d21e7bb1",
   "metadata": {},
   "outputs": [],
   "source": [
    "import sys\n",
    "import os\n",
    "if os.getcwd().endswith('notebooks'):\n",
    "    os.chdir(\"..\")\n",
    "print(os.getcwd())"
   ]
  },
  {
   "cell_type": "markdown",
   "id": "46d7adaa",
   "metadata": {},
   "source": [
    "## Imports "
   ]
  },
  {
   "cell_type": "code",
   "execution_count": 2,
   "id": "5de29e51",
   "metadata": {},
   "outputs": [],
   "source": [
    "import pandas as pd\n",
    "import numpy as np\n",
    "import matplotlib.pyplot as plt\n",
    "from sklearn.cluster import KMeans\n",
    "from sklearn.preprocessing import StandardScaler\n",
    "from sklearn.metrics import accuracy_score\n",
    "import warnings\n",
    "warnings.filterwarnings(\"ignore\")"
   ]
  },
  {
   "cell_type": "markdown",
   "id": "d8c0e9f4",
   "metadata": {},
   "source": [
    "# Prepare the Data "
   ]
  },
  {
   "cell_type": "markdown",
   "id": "e088f104",
   "metadata": {},
   "source": [
    "## Import the data "
   ]
  },
  {
   "cell_type": "code",
   "execution_count": 17,
   "id": "b6ee73a1",
   "metadata": {},
   "outputs": [
    {
     "name": "stdout",
     "output_type": "stream",
     "text": [
      "(984, 32)\n"
     ]
    },
    {
     "data": {
      "text/html": [
       "<div>\n",
       "<style scoped>\n",
       "    .dataframe tbody tr th:only-of-type {\n",
       "        vertical-align: middle;\n",
       "    }\n",
       "\n",
       "    .dataframe tbody tr th {\n",
       "        vertical-align: top;\n",
       "    }\n",
       "\n",
       "    .dataframe thead th {\n",
       "        text-align: right;\n",
       "    }\n",
       "</style>\n",
       "<table border=\"1\" class=\"dataframe\">\n",
       "  <thead>\n",
       "    <tr style=\"text-align: right;\">\n",
       "      <th></th>\n",
       "      <th>index</th>\n",
       "      <th>Time</th>\n",
       "      <th>V1</th>\n",
       "      <th>V2</th>\n",
       "      <th>V3</th>\n",
       "      <th>V4</th>\n",
       "      <th>V5</th>\n",
       "      <th>V6</th>\n",
       "      <th>V7</th>\n",
       "      <th>V8</th>\n",
       "      <th>...</th>\n",
       "      <th>V21</th>\n",
       "      <th>V22</th>\n",
       "      <th>V23</th>\n",
       "      <th>V24</th>\n",
       "      <th>V25</th>\n",
       "      <th>V26</th>\n",
       "      <th>V27</th>\n",
       "      <th>V28</th>\n",
       "      <th>Amount</th>\n",
       "      <th>Class</th>\n",
       "    </tr>\n",
       "  </thead>\n",
       "  <tbody>\n",
       "    <tr>\n",
       "      <th>0</th>\n",
       "      <td>803</td>\n",
       "      <td>134766.0</td>\n",
       "      <td>-0.079653</td>\n",
       "      <td>3.222010</td>\n",
       "      <td>-3.724201</td>\n",
       "      <td>6.037345</td>\n",
       "      <td>0.583395</td>\n",
       "      <td>-0.691346</td>\n",
       "      <td>-1.799885</td>\n",
       "      <td>-2.627781</td>\n",
       "      <td>...</td>\n",
       "      <td>-0.664694</td>\n",
       "      <td>1.138556</td>\n",
       "      <td>-0.350753</td>\n",
       "      <td>-0.287467</td>\n",
       "      <td>0.808889</td>\n",
       "      <td>0.823962</td>\n",
       "      <td>0.668497</td>\n",
       "      <td>0.595610</td>\n",
       "      <td>1.00</td>\n",
       "      <td>1</td>\n",
       "    </tr>\n",
       "    <tr>\n",
       "      <th>1</th>\n",
       "      <td>977</td>\n",
       "      <td>76845.0</td>\n",
       "      <td>1.141572</td>\n",
       "      <td>1.291195</td>\n",
       "      <td>-1.432900</td>\n",
       "      <td>2.058202</td>\n",
       "      <td>0.940824</td>\n",
       "      <td>-0.958274</td>\n",
       "      <td>0.391154</td>\n",
       "      <td>-0.092519</td>\n",
       "      <td>...</td>\n",
       "      <td>-0.366507</td>\n",
       "      <td>-0.714465</td>\n",
       "      <td>-0.143911</td>\n",
       "      <td>-0.305178</td>\n",
       "      <td>0.697514</td>\n",
       "      <td>-0.312545</td>\n",
       "      <td>0.106247</td>\n",
       "      <td>0.125060</td>\n",
       "      <td>1.00</td>\n",
       "      <td>1</td>\n",
       "    </tr>\n",
       "    <tr>\n",
       "      <th>2</th>\n",
       "      <td>864</td>\n",
       "      <td>7891.0</td>\n",
       "      <td>-1.585505</td>\n",
       "      <td>3.261585</td>\n",
       "      <td>-4.137422</td>\n",
       "      <td>2.357096</td>\n",
       "      <td>-1.405043</td>\n",
       "      <td>-1.879437</td>\n",
       "      <td>-3.513687</td>\n",
       "      <td>1.515607</td>\n",
       "      <td>...</td>\n",
       "      <td>0.501543</td>\n",
       "      <td>-0.546869</td>\n",
       "      <td>-0.076584</td>\n",
       "      <td>-0.425550</td>\n",
       "      <td>0.123644</td>\n",
       "      <td>0.321985</td>\n",
       "      <td>0.264028</td>\n",
       "      <td>0.132817</td>\n",
       "      <td>1.00</td>\n",
       "      <td>1</td>\n",
       "    </tr>\n",
       "    <tr>\n",
       "      <th>3</th>\n",
       "      <td>427</td>\n",
       "      <td>84353.0</td>\n",
       "      <td>-1.634101</td>\n",
       "      <td>-0.791181</td>\n",
       "      <td>1.436692</td>\n",
       "      <td>-0.100145</td>\n",
       "      <td>0.054363</td>\n",
       "      <td>0.592723</td>\n",
       "      <td>-0.177596</td>\n",
       "      <td>0.155492</td>\n",
       "      <td>...</td>\n",
       "      <td>-0.362669</td>\n",
       "      <td>-0.120901</td>\n",
       "      <td>0.525412</td>\n",
       "      <td>-0.757752</td>\n",
       "      <td>-0.365952</td>\n",
       "      <td>1.044315</td>\n",
       "      <td>0.060579</td>\n",
       "      <td>-0.063147</td>\n",
       "      <td>76.00</td>\n",
       "      <td>0</td>\n",
       "    </tr>\n",
       "    <tr>\n",
       "      <th>4</th>\n",
       "      <td>338</td>\n",
       "      <td>75400.0</td>\n",
       "      <td>0.995641</td>\n",
       "      <td>-0.221303</td>\n",
       "      <td>1.269851</td>\n",
       "      <td>1.873133</td>\n",
       "      <td>-0.856063</td>\n",
       "      <td>0.376652</td>\n",
       "      <td>-0.643236</td>\n",
       "      <td>0.240005</td>\n",
       "      <td>...</td>\n",
       "      <td>0.133690</td>\n",
       "      <td>0.352389</td>\n",
       "      <td>-0.031503</td>\n",
       "      <td>0.142970</td>\n",
       "      <td>0.082768</td>\n",
       "      <td>1.061510</td>\n",
       "      <td>-0.031241</td>\n",
       "      <td>0.027971</td>\n",
       "      <td>72.31</td>\n",
       "      <td>0</td>\n",
       "    </tr>\n",
       "  </tbody>\n",
       "</table>\n",
       "<p>5 rows × 32 columns</p>\n",
       "</div>"
      ],
      "text/plain": [
       "   index      Time        V1        V2        V3        V4        V5  \\\n",
       "0    803  134766.0 -0.079653  3.222010 -3.724201  6.037345  0.583395   \n",
       "1    977   76845.0  1.141572  1.291195 -1.432900  2.058202  0.940824   \n",
       "2    864    7891.0 -1.585505  3.261585 -4.137422  2.357096 -1.405043   \n",
       "3    427   84353.0 -1.634101 -0.791181  1.436692 -0.100145  0.054363   \n",
       "4    338   75400.0  0.995641 -0.221303  1.269851  1.873133 -0.856063   \n",
       "\n",
       "         V6        V7        V8  ...       V21       V22       V23       V24  \\\n",
       "0 -0.691346 -1.799885 -2.627781  ... -0.664694  1.138556 -0.350753 -0.287467   \n",
       "1 -0.958274  0.391154 -0.092519  ... -0.366507 -0.714465 -0.143911 -0.305178   \n",
       "2 -1.879437 -3.513687  1.515607  ...  0.501543 -0.546869 -0.076584 -0.425550   \n",
       "3  0.592723 -0.177596  0.155492  ... -0.362669 -0.120901  0.525412 -0.757752   \n",
       "4  0.376652 -0.643236  0.240005  ...  0.133690  0.352389 -0.031503  0.142970   \n",
       "\n",
       "        V25       V26       V27       V28  Amount  Class  \n",
       "0  0.808889  0.823962  0.668497  0.595610    1.00      1  \n",
       "1  0.697514 -0.312545  0.106247  0.125060    1.00      1  \n",
       "2  0.123644  0.321985  0.264028  0.132817    1.00      1  \n",
       "3 -0.365952  1.044315  0.060579 -0.063147   76.00      0  \n",
       "4  0.082768  1.061510 -0.031241  0.027971   72.31      0  \n",
       "\n",
       "[5 rows x 32 columns]"
      ]
     },
     "execution_count": 17,
     "metadata": {},
     "output_type": "execute_result"
    }
   ],
   "source": [
    "data = pd.read_csv(os.path.join('data', 'creditcard_data.csv'))\n",
    "g = data.groupby('Class')\n",
    "data = g.apply(lambda x: x.sample(g.size().min()).reset_index(drop=True))\n",
    "data.reset_index(drop=True, inplace=True)\n",
    "data = data.sample(frac=1).reset_index()\n",
    "print(data.shape)\n",
    "data.head(5)"
   ]
  },
  {
   "cell_type": "markdown",
   "id": "464a606a",
   "metadata": {},
   "source": [
    "## Prepare the data"
   ]
  },
  {
   "cell_type": "code",
   "execution_count": 4,
   "id": "b017d66f",
   "metadata": {},
   "outputs": [],
   "source": [
    "# Normalize the Amount and Time features\n",
    "df = data.copy()\n",
    "df['norm_amount'] = (df['Amount'] - df['Amount'].mean()) / df['Amount'].std()\n",
    "df['norm_time'] = (df['Time'] - df['Time'].mean()) / df['Time'].std()"
   ]
  },
  {
   "cell_type": "code",
   "execution_count": 5,
   "id": "92b4c331",
   "metadata": {},
   "outputs": [],
   "source": [
    "# Extract the features to be used for clustering\n",
    "features = ['norm_amount', 'norm_time']\n",
    "x = df[features]"
   ]
  },
  {
   "cell_type": "markdown",
   "id": "8c5d132c",
   "metadata": {},
   "source": [
    "# Model "
   ]
  },
  {
   "cell_type": "code",
   "execution_count": 6,
   "id": "76aa5597",
   "metadata": {},
   "outputs": [
    {
     "data": {
      "text/html": [
       "<style>#sk-container-id-1 {color: black;background-color: white;}#sk-container-id-1 pre{padding: 0;}#sk-container-id-1 div.sk-toggleable {background-color: white;}#sk-container-id-1 label.sk-toggleable__label {cursor: pointer;display: block;width: 100%;margin-bottom: 0;padding: 0.3em;box-sizing: border-box;text-align: center;}#sk-container-id-1 label.sk-toggleable__label-arrow:before {content: \"▸\";float: left;margin-right: 0.25em;color: #696969;}#sk-container-id-1 label.sk-toggleable__label-arrow:hover:before {color: black;}#sk-container-id-1 div.sk-estimator:hover label.sk-toggleable__label-arrow:before {color: black;}#sk-container-id-1 div.sk-toggleable__content {max-height: 0;max-width: 0;overflow: hidden;text-align: left;background-color: #f0f8ff;}#sk-container-id-1 div.sk-toggleable__content pre {margin: 0.2em;color: black;border-radius: 0.25em;background-color: #f0f8ff;}#sk-container-id-1 input.sk-toggleable__control:checked~div.sk-toggleable__content {max-height: 200px;max-width: 100%;overflow: auto;}#sk-container-id-1 input.sk-toggleable__control:checked~label.sk-toggleable__label-arrow:before {content: \"▾\";}#sk-container-id-1 div.sk-estimator input.sk-toggleable__control:checked~label.sk-toggleable__label {background-color: #d4ebff;}#sk-container-id-1 div.sk-label input.sk-toggleable__control:checked~label.sk-toggleable__label {background-color: #d4ebff;}#sk-container-id-1 input.sk-hidden--visually {border: 0;clip: rect(1px 1px 1px 1px);clip: rect(1px, 1px, 1px, 1px);height: 1px;margin: -1px;overflow: hidden;padding: 0;position: absolute;width: 1px;}#sk-container-id-1 div.sk-estimator {font-family: monospace;background-color: #f0f8ff;border: 1px dotted black;border-radius: 0.25em;box-sizing: border-box;margin-bottom: 0.5em;}#sk-container-id-1 div.sk-estimator:hover {background-color: #d4ebff;}#sk-container-id-1 div.sk-parallel-item::after {content: \"\";width: 100%;border-bottom: 1px solid gray;flex-grow: 1;}#sk-container-id-1 div.sk-label:hover label.sk-toggleable__label {background-color: #d4ebff;}#sk-container-id-1 div.sk-serial::before {content: \"\";position: absolute;border-left: 1px solid gray;box-sizing: border-box;top: 0;bottom: 0;left: 50%;z-index: 0;}#sk-container-id-1 div.sk-serial {display: flex;flex-direction: column;align-items: center;background-color: white;padding-right: 0.2em;padding-left: 0.2em;position: relative;}#sk-container-id-1 div.sk-item {position: relative;z-index: 1;}#sk-container-id-1 div.sk-parallel {display: flex;align-items: stretch;justify-content: center;background-color: white;position: relative;}#sk-container-id-1 div.sk-item::before, #sk-container-id-1 div.sk-parallel-item::before {content: \"\";position: absolute;border-left: 1px solid gray;box-sizing: border-box;top: 0;bottom: 0;left: 50%;z-index: -1;}#sk-container-id-1 div.sk-parallel-item {display: flex;flex-direction: column;z-index: 1;position: relative;background-color: white;}#sk-container-id-1 div.sk-parallel-item:first-child::after {align-self: flex-end;width: 50%;}#sk-container-id-1 div.sk-parallel-item:last-child::after {align-self: flex-start;width: 50%;}#sk-container-id-1 div.sk-parallel-item:only-child::after {width: 0;}#sk-container-id-1 div.sk-dashed-wrapped {border: 1px dashed gray;margin: 0 0.4em 0.5em 0.4em;box-sizing: border-box;padding-bottom: 0.4em;background-color: white;}#sk-container-id-1 div.sk-label label {font-family: monospace;font-weight: bold;display: inline-block;line-height: 1.2em;}#sk-container-id-1 div.sk-label-container {text-align: center;}#sk-container-id-1 div.sk-container {/* jupyter's `normalize.less` sets `[hidden] { display: none; }` but bootstrap.min.css set `[hidden] { display: none !important; }` so we also need the `!important` here to be able to override the default hidden behavior on the sphinx rendered scikit-learn.org. See: https://github.com/scikit-learn/scikit-learn/issues/21755 */display: inline-block !important;position: relative;}#sk-container-id-1 div.sk-text-repr-fallback {display: none;}</style><div id=\"sk-container-id-1\" class=\"sk-top-container\"><div class=\"sk-text-repr-fallback\"><pre>KMeans(n_clusters=2, random_state=0)</pre><b>In a Jupyter environment, please rerun this cell to show the HTML representation or trust the notebook. <br />On GitHub, the HTML representation is unable to render, please try loading this page with nbviewer.org.</b></div><div class=\"sk-container\" hidden><div class=\"sk-item\"><div class=\"sk-estimator sk-toggleable\"><input class=\"sk-toggleable__control sk-hidden--visually\" id=\"sk-estimator-id-1\" type=\"checkbox\" checked><label for=\"sk-estimator-id-1\" class=\"sk-toggleable__label sk-toggleable__label-arrow\">KMeans</label><div class=\"sk-toggleable__content\"><pre>KMeans(n_clusters=2, random_state=0)</pre></div></div></div></div></div>"
      ],
      "text/plain": [
       "KMeans(n_clusters=2, random_state=0)"
      ]
     },
     "execution_count": 6,
     "metadata": {},
     "output_type": "execute_result"
    }
   ],
   "source": [
    "# Fit the k-means model\n",
    "kmeans = KMeans(n_clusters=2, random_state=0)\n",
    "kmeans.fit(x)"
   ]
  },
  {
   "cell_type": "code",
   "execution_count": 7,
   "id": "50de7863",
   "metadata": {},
   "outputs": [],
   "source": [
    "# Predict the clusters for each transaction\n",
    "labels = kmeans.predict(x)"
   ]
  },
  {
   "cell_type": "code",
   "execution_count": 8,
   "id": "d6b7d29f",
   "metadata": {},
   "outputs": [],
   "source": [
    "# Add the cluster labels to the data\n",
    "df['cluster'] = labels"
   ]
  },
  {
   "cell_type": "code",
   "execution_count": 9,
   "id": "48ebfddc",
   "metadata": {},
   "outputs": [
    {
     "data": {
      "text/plain": [
       "0    589\n",
       "1    395\n",
       "Name: cluster, dtype: int64"
      ]
     },
     "execution_count": 9,
     "metadata": {},
     "output_type": "execute_result"
    }
   ],
   "source": [
    "df.cluster.value_counts()"
   ]
  },
  {
   "cell_type": "markdown",
   "id": "e0761b03",
   "metadata": {},
   "source": [
    "## Plot the Clusters "
   ]
  },
  {
   "cell_type": "code",
   "execution_count": 10,
   "id": "55559640",
   "metadata": {},
   "outputs": [
    {
     "data": {
      "image/png": "[encoded data removed]",
      "text/plain": [
       "<Figure size 640x480 with 1 Axes>"
      ]
     },
     "metadata": {},
     "output_type": "display_data"
    }
   ],
   "source": [
    "colors = ['b', 'g']\n",
    "for i in range(2):\n",
    "    index = df['cluster'] == i\n",
    "    plt.scatter(df.loc[index, 'norm_amount'], df.loc[index, 'norm_time'], c=colors[i], alpha=0.2)\n",
    "# Plot centroids\n",
    "centroids = kmeans.cluster_centers_\n",
    "plt.scatter(centroids[:, 0], centroids[:, 1], marker='x', s=200, linewidths=3, color='r')\n",
    "\n",
    "plt.xlabel('Normalized Amount')\n",
    "plt.ylabel('Normalized Time')\n",
    "plt.show()"
   ]
  },
  {
   "cell_type": "markdown",
   "id": "c2723dfa",
   "metadata": {},
   "source": [
    "## Make a prediction for 1 row "
   ]
  },
  {
   "cell_type": "code",
   "execution_count": 16,
   "id": "e262a0d0",
   "metadata": {},
   "outputs": [
    {
     "name": "stdout",
     "output_type": "stream",
     "text": [
      "For the row with values:\n",
      "      norm_amount  norm_time\n",
      "648     0.003398   0.653738\n",
      "\n",
      "The clustering predicted [1]\n",
      "The actual value is [1]\n"
     ]
    }
   ],
   "source": [
    "sample_row = data.sample(n=1).index\n",
    "sample_features = df.loc[sample_row, ['norm_amount', 'norm_time']]\n",
    "print(f\"For the row with values:\\n {sample_features}\")\n",
    "print(f'\\nThe clustering predicted {kmeans.predict(sample_features)}')\n",
    "print(f\"The actual value is {data.loc[sample_row, 'Class'].values}\")"
   ]
  },
  {
   "cell_type": "code",
   "execution_count": null,
   "id": "566a96ca",
   "metadata": {},
   "outputs": [],
   "source": []
  }
 ],
 "metadata": {
  "kernelspec": {
   "display_name": "Python 3 (ipykernel)",
   "language": "python",
   "name": "python3"
  },
  "language_info": {
   "codemirror_mode": {
    "name": "ipython",
    "version": 3
   },
   "file_extension": ".py",
   "mimetype": "text/x-python",
   "name": "python",
   "nbconvert_exporter": "python",
   "pygments_lexer": "ipython3",
   "version": "3.8.10"
  }
 },
 "nbformat": 4,
 "nbformat_minor": 5
}
